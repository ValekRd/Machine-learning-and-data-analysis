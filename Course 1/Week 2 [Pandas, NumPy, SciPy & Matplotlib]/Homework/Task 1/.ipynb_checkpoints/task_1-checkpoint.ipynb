{
 "cells": [
  {
   "cell_type": "markdown",
   "metadata": {
    "collapsed": true
   },
   "source": [
    "### 1. Download 'sentences.txt' and import libraries"
   ]
  },
  {
   "cell_type": "code",
   "execution_count": 285,
   "metadata": {
    "collapsed": true
   },
   "outputs": [],
   "source": [
    "import numpy as np\n",
    "import copy\n",
    "from scipy import spatial"
   ]
  },
  {
   "cell_type": "markdown",
   "metadata": {},
   "source": [
    "### 2. Считываем строки и переводим весь текст к нижнему регистру"
   ]
  },
  {
   "cell_type": "code",
   "execution_count": 286,
   "metadata": {},
   "outputs": [],
   "source": [
    "new_text = open('new_text.txt', 'w')\n",
    "text = open('sentences.txt', 'r')\n",
    "number_of_sentences = 0\n",
    "for line in text:\n",
    "    new_text.write(line.lower())\n",
    "    number_of_sentences +=1"
   ]
  },
  {
   "cell_type": "code",
   "execution_count": 287,
   "metadata": {
    "collapsed": true
   },
   "outputs": [],
   "source": [
    "new_text.close()\n",
    "text.close()"
   ]
  },
  {
   "cell_type": "markdown",
   "metadata": {},
   "source": [
    "### 3. Удаление пустых слов"
   ]
  },
  {
   "cell_type": "code",
   "execution_count": 288,
   "metadata": {
    "collapsed": true
   },
   "outputs": [],
   "source": [
    "import re"
   ]
  },
  {
   "cell_type": "code",
   "execution_count": 289,
   "metadata": {
    "collapsed": true
   },
   "outputs": [],
   "source": [
    "new_text = open('new_text.txt', 'r')\n",
    "all_words = []\n",
    "for line in new_text:\n",
    "    all_words.extend(re.split('[^a-z]', line))"
   ]
  },
  {
   "cell_type": "code",
   "execution_count": 290,
   "metadata": {},
   "outputs": [],
   "source": [
    "clear_words = []\n",
    "for i in all_words:\n",
    "    if i != '':\n",
    "        clear_words.append(i)"
   ]
  },
  {
   "cell_type": "markdown",
   "metadata": {},
   "source": [
    "### 4. Индексация слов и запись в dict"
   ]
  },
  {
   "cell_type": "code",
   "execution_count": 291,
   "metadata": {},
   "outputs": [],
   "source": [
    "words_dict = dict()\n",
    "for i in clear_words:\n",
    "    words_dict[i] = 0"
   ]
  },
  {
   "cell_type": "code",
   "execution_count": 292,
   "metadata": {},
   "outputs": [],
   "source": [
    "k = 0\n",
    "for i in words_dict:\n",
    "    words_dict[i] = k\n",
    "    k = k + 1"
   ]
  },
  {
   "cell_type": "markdown",
   "metadata": {},
   "source": [
    "### 5. Создание матрицы с количеством повторений каждого слова в каждом предложении"
   ]
  },
  {
   "cell_type": "code",
   "execution_count": 293,
   "metadata": {},
   "outputs": [
    {
     "name": "stdout",
     "output_type": "stream",
     "text": [
      "22\n",
      "254\n"
     ]
    }
   ],
   "source": [
    "print number_of_sentences\n",
    "print len(words_dict)"
   ]
  },
  {
   "cell_type": "code",
   "execution_count": 294,
   "metadata": {},
   "outputs": [],
   "source": [
    "list_words = words_dict.keys()"
   ]
  },
  {
   "cell_type": "code",
   "execution_count": 295,
   "metadata": {},
   "outputs": [],
   "source": [
    "new_text = open('new_text.txt', 'r')\n",
    "A = np.zeros((number_of_sentences, len(words_dict)), dtype = int)\n",
    "for i in range(len(A)):\n",
    "    sentence = re.split('[^a-z]', new_text.readline())\n",
    "    for j in range(len(A[i])):\n",
    "        k = 0\n",
    "        for l in range(len(sentence)):\n",
    "            if list_words[j] == sentence[l]:\n",
    "                k += 1\n",
    "        A[i][j] = k"
   ]
  },
  {
   "cell_type": "markdown",
   "metadata": {},
   "source": [
    "### 6. Нахождение косинусного расстояния"
   ]
  },
  {
   "cell_type": "code",
   "execution_count": 303,
   "metadata": {},
   "outputs": [],
   "source": [
    "result = []\n",
    "for i in range(len(A)):\n",
    "    result.append(scipy.spatial.distance.cosine(A[0, :], A[i, :]))"
   ]
  },
  {
   "cell_type": "code",
   "execution_count": 304,
   "metadata": {},
   "outputs": [
    {
     "name": "stdout",
     "output_type": "stream",
     "text": [
      "6\n",
      "4\n"
     ]
    }
   ],
   "source": [
    "temp_list = result[:]\n",
    "temp_list.remove(0.0)\n",
    "for i in range(len(result)):\n",
    "    if min(temp_list) == result[i]:\n",
    "        print i\n",
    "        temp_list.remove(min(temp_list))\n",
    "        for j in range(len(result)):\n",
    "            if min(temp_list) == result[j]:\n",
    "                print j"
   ]
  }
 ],
 "metadata": {
  "kernelspec": {
   "display_name": "Python 2",
   "language": "python",
   "name": "python2"
  },
  "language_info": {
   "codemirror_mode": {
    "name": "ipython",
    "version": 2
   },
   "file_extension": ".py",
   "mimetype": "text/x-python",
   "name": "python",
   "nbconvert_exporter": "python",
   "pygments_lexer": "ipython2",
   "version": "2.7.13"
  }
 },
 "nbformat": 4,
 "nbformat_minor": 2
}
